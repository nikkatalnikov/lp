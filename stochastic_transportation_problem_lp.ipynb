{
 "cells": [
  {
   "cell_type": "code",
   "execution_count": 10,
   "outputs": [],
   "source": [
    "import pulp as p\n",
    "import numpy as np\n",
    "\n",
    "def init_lp():\n",
    "\t# Init solver and variables\n",
    "\tLp_prob = p.LpProblem('StochasticCostMinimization', p.LpMinimize)\n",
    "\n",
    "\t# First enterprise vs resource 1 transportation\n",
    "\tx11 = p.LpVariable(\"x11\", lowBound=0)  # x11 >= 0\n",
    "\tx12 = p.LpVariable(\"x12\", lowBound=0)  # x12 >= 0\n",
    "\tx13 = p.LpVariable(\"x13\", lowBound=0)  # x13 >= 0\n",
    "\tx14 = p.LpVariable(\"x14\", lowBound=0)  # x14 >= 0\n",
    "\n",
    "\t# Second enterprise vs resource 1 transportation\n",
    "\tx21 = p.LpVariable(\"x21\", lowBound=0)  # x21 >= 0\n",
    "\tx22 = p.LpVariable(\"x22\", lowBound=0)  # x22 >= 0\n",
    "\tx23 = p.LpVariable(\"x23\", lowBound=0)  # x23 >= 0\n",
    "\tx24 = p.LpVariable(\"x24\", lowBound=0)  # x24 >= 0\n",
    "\n",
    "\t# First enterprise vs resource 2 transportation\n",
    "\ty11 = p.LpVariable(\"y11\", lowBound=0)  # y11 >= 0\n",
    "\ty12 = p.LpVariable(\"y12\", lowBound=0)  # y12 >= 0\n",
    "\ty13 = p.LpVariable(\"y13\", lowBound=0)  # y13 >= 0\n",
    "\n",
    "\t# Second enterprise vs resource 2 transportation\n",
    "\ty21 = p.LpVariable(\"y21\", lowBound=0)  # y21 >= 0\n",
    "\ty22 = p.LpVariable(\"y22\", lowBound=0)  # y22 >= 0\n",
    "\ty23 = p.LpVariable(\"y23\", lowBound=0)  # y23 >= 0\n",
    "\n",
    "\t# First enterprise vs warehouses\n",
    "\tq11 = p.LpVariable(\"q11\", lowBound=0, cat='Integer')  # q11 >= 0, integer\n",
    "\tq12 = p.LpVariable(\"q12\", lowBound=0, cat='Integer')  # q12 >= 0, integer\n",
    "\tq13 = p.LpVariable(\"q13\", lowBound=0, cat='Integer')  # q13 >= 0, integer\n",
    "\tq14 = p.LpVariable(\"q14\", lowBound=0, cat='Integer')  # q14 >= 0, integer\n",
    "\n",
    "\t# Second enterprise vs warehouses\n",
    "\tq21 = p.LpVariable(\"q21\", lowBound=0, cat='Integer')  # q21 >= 0, integer\n",
    "\tq22 = p.LpVariable(\"q22\", lowBound=0, cat='Integer')  # q22 >= 0, integer\n",
    "\tq23 = p.LpVariable(\"q23\", lowBound=0, cat='Integer')  # q23 >= 0, integer\n",
    "\tq24 = p.LpVariable(\"q24\", lowBound=0, cat='Integer')  # q24 >= 0, integer\n",
    "\n",
    "\t# Production\n",
    "\tz1 = p.LpVariable(\"z1\", lowBound=0, cat='Integer')  # z1 >= 0, integer\n",
    "\tz2 = p.LpVariable(\"z2\", lowBound=0, cat='Integer')  # z2 >= 0, integer\n",
    "\n",
    "\t# Common constraints for pessimista/optimista models\n",
    "\tLp_prob += x11 + x12 + x13 + x14 == 4 * (y11 + y12 + y13)\n",
    "\tLp_prob += x21 + x22 + x23 + x24 == 5 * (y21 + y22 + y23)\n",
    "\tLp_prob += z1 == 10 * (x11 + x12 + x13 + x14)\n",
    "\tLp_prob += z2 == 8 * (x21 + x22 + x23 + x24)\n",
    "\n",
    "\tLp_prob += q11 + q21 == 1000\n",
    "\tLp_prob += q12 + q22 == 1200\n",
    "\tLp_prob += q13 + q23 == 1500\n",
    "\tLp_prob += q14 + q24 == 2000\n",
    "\n",
    "\tLp_prob += q11 + q12 + q13 + q14 == z1\n",
    "\tLp_prob += q21 + q22 + q23 + q24 == z2\n",
    "\tLp_prob += z1 + z2 == 5700\n",
    "\n",
    "\treturn x11, x12, x13, x14, x21, x22, x23, x24, \\\n",
    "\t\t   y11, y12, y13, y21, y22, y23, \\\n",
    "\t\t   q11, q12, q13, q14, \\\n",
    "\t\t   q21, q22, q23, q24, \\\n",
    "\t\t   z1, z2, Lp_prob\n",
    "\n",
    "def variance_to_fuzzy_coefficient(sigma):\n",
    "\treturn sigma * np.sqrt(2 * np.log(2.26 * sigma))"
   ],
   "metadata": {
    "collapsed": false,
    "pycharm": {
     "name": "#%%\n"
    }
   }
  },
  {
   "cell_type": "code",
   "execution_count": 11,
   "outputs": [
    {
     "name": "stdout",
     "output_type": "stream",
     "text": [
      "X by 1st enterprise: (0.0, 0.0, 0.0, 0.0)\n",
      "X by 2nd enterprise: (0.0, 0.0, 712.5, 0.0)\n",
      "Y by 1st enterprise: (0.0, 0.0, 0.0)\n",
      "Y by 2nd enterprise: (142.5, 0.0, 0.0)\n",
      "Q by 1st enterprise: (0.0, 0.0, 0.0, 0.0)\n",
      "Q by 2nd enterprise: (1000.0, 1200.0, 1500.0, 2000.0)\n",
      "Z: (0.0, 5700.0)\n",
      "Pessimista objective function value: 1926493.2030251424\n"
     ]
    }
   ],
   "source": [
    "x11, x12, x13, x14, x21, x22, x23, x24, y11, y12, y13, y21, y22, y23, q11, q12, q13, q14, q21, q22, q23, q24, z1, z2, Lp_pessimista  = init_lp()\n",
    "# Pessimista problem\n",
    "Lp_pessimista += \t    220 * (x11 + x21) + 240 * (x12 + x22) + 140 * (x13 + x23) + 200 * (x14 + x24) + \\\n",
    "\t\t\t\t\t\t50 * (y11 + y21) + 60 * (y12 + y22) + 70 * (y13 + y23) + \\\n",
    "                        20 * x11 + 70 * x12 + 50 * x13 + 40 * x14 + \\\n",
    "                        60 * x21 + 40 * x22 + 50 * x23 + 20 * x24 + \\\n",
    "                        50 * y11 + 20 * y12 + 40 * y13 + \\\n",
    "                        20 * y21 + 40 * y22 + 20 * y23 + \\\n",
    "                        5 * q11 + 4 * q12 + 5 * q13 + 10 * q14 + \\\n",
    "\t\t\t\t\t\tvariance_to_fuzzy_coefficient(5) * q11 + \\\n",
    "\t\t\t\t\t\tvariance_to_fuzzy_coefficient(4) * q12 + \\\n",
    "\t\t\t\t\t\tvariance_to_fuzzy_coefficient(5) * q13 + \\\n",
    "\t\t\t\t\t\tvariance_to_fuzzy_coefficient(10) * q14 + \\\n",
    "                        5 * q21 + 3 * q22 + 6 * q23 + 10 * q24 + \\\n",
    "\t\t\t\t\t\tvariance_to_fuzzy_coefficient(5) * q21 + \\\n",
    "\t\t\t\t\t\tvariance_to_fuzzy_coefficient(4) * q22 + \\\n",
    "\t\t\t\t\t\tvariance_to_fuzzy_coefficient(5) * q23 + \\\n",
    "\t\t\t\t\t\tvariance_to_fuzzy_coefficient(10) * q24 + \\\n",
    "\t\t   \t\t\t\t577800 + 96 * z1 + 804600 + 48 * z2\n",
    "\n",
    "Lp_pessimista.solve()\n",
    "\n",
    "# Printing the final solution\n",
    "print(\"X by 1st enterprise: {}\".format((p.value(x11), p.value(x12), p.value(x13), p.value(x14))))\n",
    "print(\"X by 2nd enterprise: {}\".format((p.value(x21), p.value(x22), p.value(x23), p.value(x24))))\n",
    "print(\"Y by 1st enterprise: {}\".format((p.value(y11), p.value(y12), p.value(y13))))\n",
    "print(\"Y by 2nd enterprise: {}\".format((p.value(y21), p.value(y22), p.value(y23))))\n",
    "print(\"Q by 1st enterprise: {}\".format((p.value(q11), p.value(q12), p.value(q13), p.value(q14))))\n",
    "print(\"Q by 2nd enterprise: {}\".format((p.value(q21), p.value(q22), p.value(q23), p.value(q24))))\n",
    "print(\"Z: {}\".format((p.value(z1), p.value(z2))))\n",
    "\n",
    "result = p.value(Lp_pessimista.objective)\n",
    "print(\"Pessimista objective function value: {}\".format(result))"
   ],
   "metadata": {
    "collapsed": false,
    "pycharm": {
     "name": "#%%\n"
    }
   }
  },
  {
   "cell_type": "code",
   "execution_count": 12,
   "outputs": [
    {
     "name": "stdout",
     "output_type": "stream",
     "text": [
      "X by 1st enterprise: (0.0, 0.0, 0.0, 0.0)\n",
      "X by 2nd enterprise: (0.0, 0.0, 712.5, 0.0)\n",
      "Y by 1st enterprise: (0.0, 0.0, 0.0)\n",
      "Y by 2nd enterprise: (142.5, 0.0, 0.0)\n",
      "Q by 1st enterprise: (0.0, 0.0, 0.0, 0.0)\n",
      "Q by 2nd enterprise: (1000.0, 1200.0, 1500.0, 2000.0)\n",
      "Z: (0.0, 5700.0)\n",
      "Optimista objective function value: 1751406.7969748576\n"
     ]
    }
   ],
   "source": [
    "x11, x12, x13, x14, x21, x22, x23, x24, y11, y12, y13, y21, y22, y23, q11, q12, q13, q14, q21, q22, q23, q24, z1, z2, Lp_optimista  = init_lp()\n",
    "# Optimista problem\n",
    "Lp_optimista +=        220 * (x11 + x21) + 240 * (x12 + x22) + 140 * (x13 + x23) + 200 * (x14 + x24) + \\\n",
    "\t\t\t\t\t\t50 * (y11 + y21) + 60 * (y12 + y22) + 70 * (y13 + y23) + \\\n",
    "                        20 * x11 + 70 * x12 + 50 * x13 + 40 * x14 + \\\n",
    "                        60 * x21 + 40 * x22 + 50 * x23 + 20 * x24 + \\\n",
    "                        50 * y11 + 20 * y12 + 40 * y13 + \\\n",
    "                        20 * y21 + 40 * y22 + 20 * y23 + \\\n",
    "                        5 * q11 + 4 * q12 + 5 * q13 + 10 * q14 + \\\n",
    "\t\t\t\t\t\t-variance_to_fuzzy_coefficient(5) * q11 + \\\n",
    "\t\t\t\t\t\t-variance_to_fuzzy_coefficient(4) * q12 + \\\n",
    "\t\t\t\t\t\t-variance_to_fuzzy_coefficient(5) * q13 + \\\n",
    "\t\t\t\t\t\t-variance_to_fuzzy_coefficient(10) * q14 + \\\n",
    "                        5 * q21 + 3 * q22 + 6 * q23 + 10 * q24 + \\\n",
    "\t\t\t\t\t\t- variance_to_fuzzy_coefficient(5) * q21 + \\\n",
    "\t\t\t\t\t\t- variance_to_fuzzy_coefficient(4) * q22 + \\\n",
    "\t\t\t\t\t\t- variance_to_fuzzy_coefficient(5) * q23 + \\\n",
    "\t\t\t\t\t\t- variance_to_fuzzy_coefficient(10) * q24 + \\\n",
    "\t\t   \t\t\t\t577800 + 96 * z1 + 804600 + 48 * z2\n",
    "\n",
    "Lp_optimista.solve()\n",
    "\n",
    "# Printing the final solution\n",
    "print(\"X by 1st enterprise: {}\".format((p.value(x11), p.value(x12), p.value(x13), p.value(x14))))\n",
    "print(\"X by 2nd enterprise: {}\".format((p.value(x21), p.value(x22), p.value(x23), p.value(x24))))\n",
    "print(\"Y by 1st enterprise: {}\".format((p.value(y11), p.value(y12), p.value(y13))))\n",
    "print(\"Y by 2nd enterprise: {}\".format((p.value(y21), p.value(y22), p.value(y23))))\n",
    "print(\"Q by 1st enterprise: {}\".format((p.value(q11), p.value(q12), p.value(q13), p.value(q14))))\n",
    "print(\"Q by 2nd enterprise: {}\".format((p.value(q21), p.value(q22), p.value(q23), p.value(q24))))\n",
    "print(\"Z: {}\".format((p.value(z1), p.value(z2))))\n",
    "\n",
    "result = p.value(Lp_optimista.objective)\n",
    "print(\"Optimista objective function value: {}\".format(result))"
   ],
   "metadata": {
    "collapsed": false,
    "pycharm": {
     "name": "#%%\n"
    }
   }
  }
 ],
 "metadata": {
  "kernelspec": {
   "display_name": "Python 3",
   "language": "python",
   "name": "python3"
  },
  "language_info": {
   "codemirror_mode": {
    "name": "ipython",
    "version": 2
   },
   "file_extension": ".py",
   "mimetype": "text/x-python",
   "name": "python",
   "nbconvert_exporter": "python",
   "pygments_lexer": "ipython2",
   "version": "2.7.6"
  }
 },
 "nbformat": 4,
 "nbformat_minor": 0
}